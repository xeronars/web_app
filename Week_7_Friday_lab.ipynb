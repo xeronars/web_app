{
 "cells": [
  {
   "cell_type": "markdown",
   "id": "97594e12",
   "metadata": {},
   "source": [
    "## Flask Response Types - Comprehensive Teaching Notes\n",
    "\n",
    "### Overview\n",
    "In Flask, view functions can return various types of responses beyond just strings and HTML. \n",
    "\n",
    "Understanding these different return types is crucial for building robust web applications.\n",
    "\n",
    "### 1. String Responses\n",
    "\n",
    "**Basic Strings**"
   ]
  },
  {
   "cell_type": "code",
   "execution_count": 1,
   "id": "928cf9c3",
   "metadata": {},
   "outputs": [
    {
     "ename": "NameError",
     "evalue": "name 'app' is not defined",
     "output_type": "error",
     "traceback": [
      "\u001b[31m---------------------------------------------------------------------------\u001b[39m",
      "\u001b[31mNameError\u001b[39m                                 Traceback (most recent call last)",
      "\u001b[36mCell\u001b[39m\u001b[36m \u001b[39m\u001b[32mIn[1]\u001b[39m\u001b[32m, line 1\u001b[39m\n\u001b[32m----> \u001b[39m\u001b[32m1\u001b[39m \u001b[38;5;129m@app\u001b[39m.route(\u001b[33m'\u001b[39m\u001b[33m/string\u001b[39m\u001b[33m'\u001b[39m)\n\u001b[32m      2\u001b[39m \u001b[38;5;28;01mdef\u001b[39;00m\u001b[38;5;250m \u001b[39m\u001b[34mreturn_string\u001b[39m():\n\u001b[32m      3\u001b[39m     \u001b[38;5;28;01mreturn\u001b[39;00m \u001b[33m\"\u001b[39m\u001b[33mThis is a plain text string\u001b[39m\u001b[33m\"\u001b[39m\n",
      "\u001b[31mNameError\u001b[39m: name 'app' is not defined"
     ]
    }
   ],
   "source": [
    "@app.route('/string')\n",
    "def return_string():\n",
    "    return \"This is a plain text string\""
   ]
  },
  {
   "cell_type": "markdown",
   "id": "8409d21c",
   "metadata": {},
   "source": [
    "**HTML Strings**"
   ]
  },
  {
   "cell_type": "code",
   "execution_count": null,
   "id": "286303cc",
   "metadata": {},
   "outputs": [],
   "source": [
    "@app.route('/html-string')\n",
    "def return_html_string():\n",
    "    return '<h1>Hello</h1><p>This is HTML</p>'"
   ]
  },
  {
   "cell_type": "markdown",
   "id": "89a274f6",
   "metadata": {},
   "source": [
    "### 2. Template Responses\n",
    "\n",
    "**Using render_template()**"
   ]
  },
  {
   "cell_type": "code",
   "execution_count": null,
   "id": "6e6e848e",
   "metadata": {},
   "outputs": [],
   "source": [
    "from flask import render_template\n",
    "\n",
    "@app.route('/template')\n",
    "def return_template():\n",
    "    return render_template('index.html', title='Home Page')"
   ]
  },
  {
   "cell_type": "markdown",
   "id": "6da344f6",
   "metadata": {},
   "source": [
    "**Template with Context**"
   ]
  },
  {
   "cell_type": "code",
   "execution_count": null,
   "id": "6153f815",
   "metadata": {},
   "outputs": [],
   "source": [
    "@app.route('/user/<name>')\n",
    "def user_profile(name):\n",
    "    return render_template('profile.html', \n",
    "                         username=name, \n",
    "                         email=f\"{name}@example.com\")"
   ]
  },
  {
   "cell_type": "markdown",
   "id": "e4fcb6d7",
   "metadata": {},
   "source": [
    "### 3. JSON Responses\n",
    "\n",
    "**Using jsonify()**"
   ]
  },
  {
   "cell_type": "code",
   "execution_count": null,
   "id": "52a1c2ce",
   "metadata": {},
   "outputs": [],
   "source": [
    "from flask import jsonify\n",
    "\n",
    "@app.route('/api/data')\n",
    "def return_json():\n",
    "    data = {\n",
    "        'name': 'John Doe',\n",
    "        'age': 30,\n",
    "        'email': 'john@example.com'\n",
    "    }\n",
    "    return jsonify(data)"
   ]
  },
  {
   "cell_type": "markdown",
   "id": "801acfbb",
   "metadata": {},
   "source": [
    "**JSON with Status Code**"
   ]
  },
  {
   "cell_type": "code",
   "execution_count": null,
   "id": "58d82164",
   "metadata": {},
   "outputs": [],
   "source": [
    "@app.route('/api/create', methods=['POST'])\n",
    "def create_item():\n",
    "    # Process data...\n",
    "    return jsonify({'message': 'Item created', 'id': 123}), 201"
   ]
  },
  {
   "cell_type": "markdown",
   "id": "d78574d0",
   "metadata": {},
   "source": [
    "### 4. Redirect Responses\n",
    "\n",
    "**Using redirect()**"
   ]
  },
  {
   "cell_type": "code",
   "execution_count": null,
   "id": "e7287f64",
   "metadata": {},
   "outputs": [],
   "source": [
    "from flask import redirect, url_for\n",
    "\n",
    "@app.route('/old-url')\n",
    "def old_url():\n",
    "    return redirect('/new-url')\n",
    "\n",
    "@app.route('/go-home')\n",
    "def go_home():\n",
    "    return redirect(url_for('home'))  # Using endpoint name"
   ]
  },
  {
   "cell_type": "markdown",
   "id": "4b790804",
   "metadata": {},
   "source": [
    "**Redirect with Parameters**"
   ]
  },
  {
   "cell_type": "code",
   "execution_count": null,
   "id": "e2e556dc",
   "metadata": {},
   "outputs": [],
   "source": [
    "@app.route('/login')\n",
    "def login():\n",
    "    # After successful login\n",
    "    return redirect(url_for('dashboard', username='john'))"
   ]
  },
  {
   "cell_type": "markdown",
   "id": "3b858adb",
   "metadata": {},
   "source": [
    "### 5. File Responses\n",
    "\n",
    "**Using send_file()**"
   ]
  },
  {
   "cell_type": "code",
   "execution_count": null,
   "id": "54fe5290",
   "metadata": {},
   "outputs": [],
   "source": [
    "from flask import send_file\n",
    "\n",
    "@app.route('/download')\n",
    "def download_file():\n",
    "    return send_file('path/to/file.pdf', \n",
    "                    as_attachment=True, \n",
    "                    download_name='document.pdf')"
   ]
  },
  {
   "cell_type": "markdown",
   "id": "8380a49e",
   "metadata": {},
   "source": [
    "**Serving Static Files**"
   ]
  },
  {
   "cell_type": "code",
   "execution_count": null,
   "id": "3ef655e2",
   "metadata": {},
   "outputs": [],
   "source": [
    "@app.route('/static-file')\n",
    "def static_file():\n",
    "    return send_file('static/images/photo.jpg')"
   ]
  },
  {
   "cell_type": "markdown",
   "id": "a130bda2",
   "metadata": {},
   "source": [
    "### 6. Custom Response Objects\n",
    "\n",
    "**Creating Response Objects**"
   ]
  },
  {
   "cell_type": "code",
   "execution_count": null,
   "id": "6ca4388e",
   "metadata": {},
   "outputs": [],
   "source": [
    "from flask import Response\n",
    "\n",
    "@app.route('/custom')\n",
    "def custom_response():\n",
    "    response = Response(\"Custom response\", mimetype='text/plain')\n",
    "    response.headers['X-Custom-Header'] = 'MyValue'\n",
    "    return response"
   ]
  },
  {
   "cell_type": "markdown",
   "id": "01bb1537",
   "metadata": {},
   "source": [
    "**Streaming Responses**"
   ]
  },
  {
   "cell_type": "code",
   "execution_count": null,
   "id": "eb240d96",
   "metadata": {},
   "outputs": [],
   "source": [
    "@app.route('/stream')\n",
    "def stream_data():\n",
    "    def generate():\n",
    "        for i in range(5):\n",
    "            yield f\"Data chunk {i}\\n\"\n",
    "    return Response(generate(), mimetype='text/plain')"
   ]
  },
  {
   "cell_type": "markdown",
   "id": "8ab1a55c",
   "metadata": {},
   "source": [
    "### 7. Error Responses\n",
    "\n",
    "**Using abort()**"
   ]
  },
  {
   "cell_type": "code",
   "execution_count": null,
   "id": "f569eecb",
   "metadata": {},
   "outputs": [],
   "source": [
    "from flask import abort\n",
    "\n",
    "@app.route('/admin')\n",
    "def admin_page():\n",
    "    if not user_is_admin:\n",
    "        abort(403)  # Forbidden\n",
    "    return \"Admin panel\""
   ]
  },
  {
   "cell_type": "markdown",
   "id": "4de2786d",
   "metadata": {},
   "source": [
    "**Custom Error Pages**"
   ]
  },
  {
   "cell_type": "code",
   "execution_count": null,
   "id": "01c9b123",
   "metadata": {},
   "outputs": [],
   "source": [
    "@app.errorhandler(404)\n",
    "def page_not_found(error):\n",
    "    return render_template('404.html'), 404\n",
    "\n",
    "@app.errorhandler(500)\n",
    "def internal_error(error):\n",
    "    return render_template('500.html'), 500"
   ]
  },
  {
   "cell_type": "markdown",
   "id": "73a21f16",
   "metadata": {},
   "source": [
    "### 8. Tuple Responses\n",
    "\n",
    "**Response with Status Code**"
   ]
  },
  {
   "cell_type": "code",
   "execution_count": null,
   "id": "73ba9ed6",
   "metadata": {},
   "outputs": [],
   "source": [
    "@app.route('/created')\n",
    "def created_response():\n",
    "    return \"Resource created successfully\", 201\n",
    "\n",
    "@app.route('/accepted')\n",
    "def accepted_response():\n",
    "    return \"Request accepted\", 202"
   ]
  },
  {
   "cell_type": "markdown",
   "id": "5347e252",
   "metadata": {},
   "source": [
    "## Class Exercise\n",
    "\n",
    "- Complete Example Demonstrating Multiple Return Types\n",
    "\n",
    "- Create a python file and run the code below:\n"
   ]
  },
  {
   "cell_type": "code",
   "execution_count": null,
   "id": "412f67a4",
   "metadata": {},
   "outputs": [],
   "source": [
    "from flask import Flask, render_template, jsonify, redirect, url_for, send_file, Response, abort, make_response\n",
    "import json\n",
    "\n",
    "app = Flask(__name__)\n",
    "\n",
    "# 1. String response\n",
    "@app.route('/')\n",
    "def home():\n",
    "    return \"Welcome to the home page\"\n",
    "\n",
    "# 2. HTML template response\n",
    "@app.route('/dashboard')\n",
    "def dashboard():\n",
    "    return render_template('dashboard.html', user='John')\n",
    "\n",
    "# 3. JSON API response\n",
    "@app.route('/api/users')\n",
    "def api_users():\n",
    "    users = [{'id': 1, 'name': 'Alice'}, {'id': 2, 'name': 'Bob'}]\n",
    "    return jsonify(users)\n",
    "\n",
    "# 4. Redirect response\n",
    "@app.route('/old-page')\n",
    "def old_page():\n",
    "    return redirect(url_for('dashboard'))\n",
    "\n",
    "# 5. File download\n",
    "@app.route('/download-report')\n",
    "def download_report():\n",
    "    return send_file('reports/monthly.pdf', as_attachment=True)\n",
    "\n",
    "# 6. Custom response with headers\n",
    "@app.route('/custom')\n",
    "def custom():\n",
    "    response = make_response(\"Custom response\")\n",
    "    response.headers['X-API-Version'] = '2.0'\n",
    "    return response\n",
    "\n",
    "# 7. Error response\n",
    "@app.route('/secret')\n",
    "def secret():\n",
    "    abort(403)\n",
    "\n",
    "# 8. Tuple response with status\n",
    "@app.route('/create', methods=['POST'])\n",
    "def create():\n",
    "    return \"Item created\", 201\n",
    "\n",
    "# Error handler\n",
    "@app.errorhandler(403)\n",
    "def forbidden(error):\n",
    "    return render_template('403.html'), 403\n",
    "\n",
    "if __name__ == '__main__':\n",
    "    app.run(debug=True)"
   ]
  }
 ],
 "metadata": {
  "kernelspec": {
   "display_name": "Python 3",
   "language": "python",
   "name": "python3"
  },
  "language_info": {
   "codemirror_mode": {
    "name": "ipython",
    "version": 3
   },
   "file_extension": ".py",
   "mimetype": "text/x-python",
   "name": "python",
   "nbconvert_exporter": "python",
   "pygments_lexer": "ipython3",
   "version": "3.13.7"
  }
 },
 "nbformat": 4,
 "nbformat_minor": 5
}
