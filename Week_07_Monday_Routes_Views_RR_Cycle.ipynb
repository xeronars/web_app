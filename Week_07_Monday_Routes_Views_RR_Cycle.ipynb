{
 "cells": [
  {
   "cell_type": "markdown",
   "id": "938acaf2",
   "metadata": {},
   "source": [
    "## Week 7: Monday\n",
    "## Topic: Flask setup: Routes, views\n",
    "\n",
    "### Class objectives\n",
    "\n",
    "- Understand what Flask is and how to use it\n",
    "\n",
    "- Set up a basic Flask development environment\n",
    "\n",
    "- Create routes and view functions to handle web requests\n",
    "\n",
    "- Explain the HTTP request/response cycle in Flask\n",
    "\n",
    "- Run a local development server and test your application\n",
    "\n",
    "- Recognize common Flask project structure and patterns\n",
    "\n"
   ]
  },
  {
   "cell_type": "markdown",
   "id": "510b48a7",
   "metadata": {},
   "source": [
    "## 1) What is Flask?: \n",
    "\n",
    "Flask is a lightweight micro web framework for Python. It's designed to be simple and easy to use, providing you with the essential tools to get a web application running quickly, while remaining flexible enough to grow with your project's needs. \n",
    "\n",
    "Think of it as a \"web application toolkit\" that provides:\n",
    "\n",
    "- URL routing\n",
    "\n",
    "- Template rendering\n",
    "\n",
    "- Request handling\n",
    "\n",
    "- Session management\n",
    "\n",
    "And much more!"
   ]
  },
  {
   "cell_type": "markdown",
   "id": "54c53f19",
   "metadata": {},
   "source": [
    "### Key Terminology:\n",
    "\n",
    "| Term | Definition | Real-World Analogy |\n",
    "|---|---|---|\n",
    "|**Route** | URL pattern that maps to specific functionality | Restaurant menu items |\n",
    "| **View Function** | Python function that handles a request and returns a response | Kitchen chef preparing your order |\n",
    "| **Request** | Data sent **from** client **to** server | You telling the waiter your order |\n",
    "| **Response** | Data sent **from** server **to** client | Waiter bringing your food |\n",
    "| **Decorator** | Python feature that modifies function behavior (e.g. `@app.route`) | Putting a label on a kitchen station |\n"
   ]
  },
  {
   "cell_type": "markdown",
   "id": "d1556287",
   "metadata": {},
   "source": [
    "## 2. Basic Project Structure & Setup\n",
    "\n",
    "**a) Dependencies / Installation**\n",
    "\n",
    "```pip install flask```\n",
    "\n",
    "**b) Suggested project structure**\n",
    "\n",
    "```\n",
    "Web_App_Project/\n",
    "├── .venv/               # Virtual environment (we will create this later)\n",
    "├── app.py               # Main application file (You already created this) \n",
    "├── requirements.txt     # Dependencies list (we will create this later)\n",
    "├── templates/           # Optional if you want to display html pages\n",
    "    ├── index.html\n",
    "```"
   ]
  },
  {
   "cell_type": "markdown",
   "id": "14e99f8e",
   "metadata": {},
   "source": [
    "## 3: Create Your App File\n",
    "\n",
    "- Create a new file named ```app.py``` in your project directory and type in the following code.\n",
    "\n",
    "- Copy the content of the cell below and paste into ```app.py``` and save it"
   ]
  },
  {
   "cell_type": "code",
   "execution_count": 1,
   "id": "04a69eb1",
   "metadata": {},
   "outputs": [
    {
     "name": "stdout",
     "output_type": "stream",
     "text": [
      " * Serving Flask app '__main__'\n",
      " * Debug mode: on\n"
     ]
    },
    {
     "name": "stderr",
     "output_type": "stream",
     "text": [
      "WARNING: This is a development server. Do not use it in a production deployment. Use a production WSGI server instead.\n",
      " * Running on http://127.0.0.1:5000\n",
      "Press CTRL+C to quit\n",
      " * Restarting with watchdog (windowsapi)\n"
     ]
    },
    {
     "ename": "SystemExit",
     "evalue": "1",
     "output_type": "error",
     "traceback": [
      "An exception has occurred, use %tb to see the full traceback.\n",
      "\u001b[1;31mSystemExit\u001b[0m\u001b[1;31m:\u001b[0m 1\n"
     ]
    },
    {
     "name": "stderr",
     "output_type": "stream",
     "text": [
      "C:\\Users\\loann\\anaconda3\\Lib\\site-packages\\IPython\\core\\interactiveshell.py:3585: UserWarning: To exit: use 'exit', 'quit', or Ctrl-D.\n",
      "  warn(\"To exit: use 'exit', 'quit', or Ctrl-D.\", stacklevel=1)\n"
     ]
    }
   ],
   "source": [
    "# app.py file content\n",
    "\n",
    "# Import the Flask class\n",
    "from flask import Flask\n",
    "\n",
    "# Create an instance of the Flask class. \n",
    "# __name__ helps Flask find template and static files.\n",
    "app = Flask(__name__)\n",
    "\n",
    "\n",
    "# Define a route with the @app.route decorator.\n",
    "# This tells Flask what URL should trigger our function.\n",
    "@app.route('/')\n",
    "def home():  \n",
    "    \"default route\"\n",
    "    return '<h1>Hello, World! From my first Flask app!</h1>'\n",
    "\n",
    "\n",
    "@app.route('/about')\n",
    "def about():\n",
    "    return 'This is the About page.'\n",
    "\n",
    "\n",
    "# This ensures the server only runs if the script is executed directly.\n",
    "if __name__ == '__main__':\n",
    "    app.run(debug=True)"
   ]
  },
  {
   "cell_type": "markdown",
   "id": "c364871f",
   "metadata": {},
   "source": [
    "## 4 Run the application\n",
    "\n",
    "In your command line run:\n",
    "\n",
    " ```python app.py```"
   ]
  },
  {
   "cell_type": "markdown",
   "id": "70de7cd4",
   "metadata": {},
   "source": [
    "## 5 Code Explanation\n",
    "\n",
    "\n",
    "**5.1 Route decorator syntax**\n",
    "\n",
    "```python\n",
    "@app.route('/')  --> specifies path on the server (i.e. handles: http://localhost:5000/ )\n",
    "\n",
    "\n",
    "@app.route('/about')  --> handles:  http://localhost:5000/about \n",
    "\n",
    "\n",
    "@app.route('/user/<id>') # Dynamic route: http://localhost:5000/user/1\n",
    "\n",
    "```\n",
    "\n"
   ]
  },
  {
   "cell_type": "markdown",
   "id": "180bdf63",
   "metadata": {},
   "source": [
    "**5.2 View Functions - The \"Workers\":**\n",
    "\n",
    "```python\n",
    "\n",
    "def home():  \n",
    "    #This function runs when the user visits the home page\n",
    "\n",
    "    return '<h1>Hello, World! From my first Flask app!</h1>'\n",
    "\n",
    "\n",
    "def about():\n",
    "    # This function runs when someone visits the about page/route.\n",
    "    return 'This is the About page.'\n",
    "\n",
    "```\n",
    "\n",
    "In your **return statement**, you could return a string, html string, html page, json, etc\n",
    "\n"
   ]
  },
  {
   "cell_type": "markdown",
   "id": "7cc86039",
   "metadata": {},
   "source": [
    "**5.3 The Development Server**\n",
    "\n",
    "- **Purpose:** Local testing environment\n",
    "\n",
    "- **Access:** ```http://localhost:5000``` or ```http://127.0.0.1:5000```\n",
    "\n",
    "- **Debug Mode:** debug=True enables auto-reload when you make changes"
   ]
  },
  {
   "cell_type": "markdown",
   "id": "cc3df4d8",
   "metadata": {},
   "source": [
    "## 6 Common Pitfalls & Solutions\n",
    "\n",
    "| Problem | Symptoms | Solution |\n",
    "|---|---|---|\n",
    "|**ModuleNotFoundError** | No module named 'flask' | Activate virtual env, check flask installation |\n",
    "| **Address already in use** |``` OSError: [Errno 98]``` | Change port: ```app.run(port=5001)``` |\n",
    "| **Route not found** | 404 error on valid URL| Check route decorator spelling |\n",
    "| **Debug mode not working** | Changes not auto-reloading | Ensure ```debug=True``` in ```app.run()``` |\n"
   ]
  },
  {
   "cell_type": "markdown",
   "id": "ae5810bc",
   "metadata": {},
   "source": [
    "## 7 Questions to Think About\n",
    "\n",
    "- What's the difference between a route and a view function?\n",
    "\n",
    "- What happens behind the scenes when you type a URL in your browser?\n"
   ]
  }
 ],
 "metadata": {
  "kernelspec": {
   "display_name": "Python [conda env:base] *",
   "language": "python",
   "name": "conda-base-py"
  },
  "language_info": {
   "codemirror_mode": {
    "name": "ipython",
    "version": 3
   },
   "file_extension": ".py",
   "mimetype": "text/x-python",
   "name": "python",
   "nbconvert_exporter": "python",
   "pygments_lexer": "ipython3",
   "version": "3.12.7"
  }
 },
 "nbformat": 4,
 "nbformat_minor": 5
}
